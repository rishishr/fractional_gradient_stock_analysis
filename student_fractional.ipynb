{
  "nbformat": 4,
  "nbformat_minor": 0,
  "metadata": {
    "colab": {
      "name": "student_fractional",
      "provenance": [],
      "collapsed_sections": [],
      "authorship_tag": "ABX9TyODbixdoH/RaYzGV+KFYZbh",
      "include_colab_link": true
    },
    "kernelspec": {
      "name": "python3",
      "display_name": "Python 3"
    },
    "language_info": {
      "name": "python"
    }
  },
  "cells": [
    {
      "cell_type": "markdown",
      "metadata": {
        "id": "view-in-github",
        "colab_type": "text"
      },
      "source": [
        "<a href=\"https://colab.research.google.com/github/rishishr/fractional_gradient_stock_analysis/blob/main/student_fractional.ipynb\" target=\"_parent\"><img src=\"https://colab.research.google.com/assets/colab-badge.svg\" alt=\"Open In Colab\"/></a>"
      ]
    },
    {
      "cell_type": "code",
      "execution_count": null,
      "metadata": {
        "id": "qOj2anwOOVZm"
      },
      "outputs": [],
      "source": [
        "import numpy as np\n",
        "import math"
      ]
    },
    {
      "cell_type": "code",
      "source": [
        " \n",
        "class NeuralNetwork(object):\n",
        "  def __init__(self):\n",
        "        #parameters\n",
        "        self.inputSize = 3\n",
        "        self.outputSize = 1\n",
        "        self.hiddenSize = 4\n",
        "        \n",
        "        #weights\n",
        "        self.W1 = np.random.randn(self.inputSize, self.hiddenSize)\n",
        "        self.W2 = np.random.randn(self.hiddenSize, self.outputSize)\n",
        "  def sigmoid(self,s):\n",
        "        return 1/(1 + np.exp(-s))\n",
        "  def Feedforward(self,X):\n",
        "        self.z = np.dot(X, self.W1)\n",
        "        self.z2 = self.sigmoid(self.z)\n",
        "        self.z3 = np.dot(self.z2, self.W2)\n",
        "        output = self.sigmoid(self.z3)\n",
        "        return output\n",
        "  def backp(self, X, y, output):\n",
        "        delta_1 = np.array([])\n",
        "        delta_0 = np.array([])\n",
        "        self.delta_1 = (output-y)*(output)*(1-output)\n",
        "        self.z2_error = self.delta_1.dot(self.W2.T) \n",
        "        self.delta_0 = self.z2_error * self.z2 * (1-self.z2)\n",
        "\n",
        "        gw = (self.z2.T.dot(self.delta_1))\n",
        "        gw = gw*(np.absolute(self.W2)**(-2/9))/math.gamma(7/9)\n",
        "        self.W2 = self.W2 - 0.5*gw\n",
        "\n",
        "        gw = (X.T.dot(self.delta_0))\n",
        "        gw = gw*(np.absolute(self.W1)**(-2/9))/math.gamma(7/9)\n",
        "        self.W1 = self.W1 - 0.5*gw\n",
        "\n",
        "  def train(self, X, y):\n",
        "       output = self.Feedforward(X)\n",
        "       self.backp(X, y, output)\n",
        "\n",
        "        \n"
      ],
      "metadata": {
        "id": "XVxOITi8PcXv"
      },
      "execution_count": null,
      "outputs": []
    },
    {
      "cell_type": "code",
      "source": [
        "NN = NeuralNetwork()"
      ],
      "metadata": {
        "id": "v1F-qWx44Osc"
      },
      "execution_count": null,
      "outputs": []
    },
    {
      "cell_type": "code",
      "source": [
        "a = np.array([[2, 9, 3], [1, 5, 4], [3, 6, 3]])\n",
        "a = a/np.amax(a, axis=0)\n",
        "b = np.array([[0.92],[0.86],[0.89]])\n",
        "c = np.array([[2,6,7],[1,5,9]])\n",
        "c = c/np.amax(c, axis=0)\n",
        "\n",
        "\n",
        "for i in range(1000): \n",
        "    NN.train(a, b)\n",
        "\n",
        "print(NN.Feedforward(c))"
      ],
      "metadata": {
        "colab": {
          "base_uri": "https://localhost:8080/"
        },
        "id": "yz-YwVXTscJZ",
        "outputId": "2c903314-eafd-4b8f-e06f-e206c01b7393"
      },
      "execution_count": null,
      "outputs": [
        {
          "output_type": "stream",
          "name": "stdout",
          "text": [
            "[[0.8988952 ]\n",
            " [0.89818581]]\n"
          ]
        }
      ]
    }
  ]
}